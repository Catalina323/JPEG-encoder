{
 "cells": [
  {
   "cell_type": "code",
   "execution_count": 1,
   "id": "7c48e3d1-f046-48ae-b138-64072fc8a33e",
   "metadata": {},
   "outputs": [
    {
     "name": "stdout",
     "output_type": "stream",
     "text": [
      "Collecting huffman\n",
      "  Downloading huffman-0.1.2-py2.py3-none-any.whl.metadata (1.4 kB)\n",
      "Downloading huffman-0.1.2-py2.py3-none-any.whl (4.6 kB)\n",
      "Installing collected packages: huffman\n",
      "Successfully installed huffman-0.1.2\n"
     ]
    }
   ],
   "source": [
    "#!pip install huffman"
   ]
  },
  {
   "cell_type": "code",
   "execution_count": 10,
   "id": "f77d8c8f-79bf-4299-b699-c789bdb173df",
   "metadata": {},
   "outputs": [],
   "source": [
    "import numpy as np\n",
    "import matplotlib.pyplot as plt\n",
    "from scipy import misc, ndimage\n",
    "from scipy.fft import dctn, idctn\n",
    "import cv2\n",
    "import huffman\n",
    "from collections import Counter"
   ]
  },
  {
   "cell_type": "code",
   "execution_count": 8,
   "id": "6855519f-f616-420c-bb77-bdf5b40c2451",
   "metadata": {},
   "outputs": [],
   "source": [
    "Q_jpeg = [[16, 11, 10, 16, 24, 40, 51, 61],\n",
    "          [12, 12, 14, 19, 26, 28, 60, 55],\n",
    "          [14, 13, 16, 24, 40, 57, 69, 56],\n",
    "          [14, 17, 22, 29, 51, 87, 80, 62],\n",
    "          [18, 22, 37, 56, 68, 109, 103, 77],\n",
    "          [24, 35, 55, 64, 81, 104, 113, 92],\n",
    "          [49, 64, 78, 87, 103, 121, 120, 101],\n",
    "          [72, 92, 95, 98, 112, 100, 103, 99]]\n",
    "\n",
    "\n",
    "def get_zig_zag(m):\n",
    "    zigzag_template = [\n",
    "        (0, 0), (0, 1), (1, 0), (2, 0), (1, 1), (0, 2), (0, 3), (1, 2),\n",
    "        (2, 1), (3, 0), (4, 0), (3, 1), (2, 2), (1, 3), (0, 4), (0, 5),\n",
    "        (1, 4), (2, 3), (3, 2), (4, 1), (5, 0), (6, 0), (5, 1), (4, 2),\n",
    "        (3, 3), (2, 4), (1, 5), (0, 6), (0, 7), (1, 6), (2, 5), (3, 4),\n",
    "        (4, 3), (5, 2), (6, 1), (7, 0), (7, 1), (6, 2), (5, 3), (4, 4),\n",
    "        (3, 5), (2, 6), (1, 7), (2, 7), (3, 6), (4, 5), (5, 4), (6, 3),\n",
    "        (7, 2), (7, 3), (6, 4), (5, 5), (4, 6), (3, 7), (4, 7), (5, 6),\n",
    "        (6, 5), (7, 4), (7, 5), (6, 6), (5, 7), (6, 7), (7, 6), (7, 7)]\n",
    "\n",
    "    zigzag_iteration = [m[i, j] for i, j in zigzag_template]\n",
    "    return zigzag_iteration"
   ]
  },
  {
   "cell_type": "code",
   "execution_count": 18,
   "id": "29e0b730-894e-498b-bf99-cf4fb76613cf",
   "metadata": {},
   "outputs": [
    {
     "name": "stderr",
     "output_type": "stream",
     "text": [
      "C:\\Users\\maria\\AppData\\Local\\Temp\\ipykernel_16312\\1067549904.py:1: DeprecationWarning: scipy.misc.ascent has been deprecated in SciPy v1.10.0; and will be completely removed in SciPy v1.12.0. Dataset methods have moved into the scipy.datasets module. Use scipy.datasets.ascent instead.\n",
      "  X = misc.ascent()\n"
     ]
    },
    {
     "name": "stdout",
     "output_type": "stream",
     "text": [
      "<class 'str'>\n"
     ]
    }
   ],
   "source": [
    "X = misc.ascent()\n",
    "\n",
    "# sarcina 1\n",
    "\n",
    "def jpeg_encoding(X):\n",
    "    r, c = X.shape\n",
    "    r8 = int(np.ceil(r/8) * 8)\n",
    "    c8 = int(np.ceil(c/8) * 8)\n",
    "    \n",
    "    padding_r = r8 - r \n",
    "    padding_c = c8 - c\n",
    "    \n",
    "    X_ext = cv2.copyMakeBorder(X, 0, padding_c, 0, padding_r, cv2.BORDER_CONSTANT, value=0)\n",
    "    \n",
    "    # y_nnz = 0\n",
    "    # y_jpeg_nnz = 0\n",
    "    Y_jpeg = np.zeros_like(X_ext)\n",
    "\n",
    "    # luam pe rand fiecare bloc de 8x8 \n",
    "    # ii facem dctn + cuantizare\n",
    "    # parcurgem blocul in zig zag si concatenam raspunsurile de la fiecare bloc\n",
    "    # aplicam huffman pe sirul concatenat\n",
    "\n",
    "    zigzag_concatenat = []\n",
    "\n",
    "    for i in range(int(r8/8)):\n",
    "        for j in range(int(c8/8)):\n",
    "            # extragerea blocului:\n",
    "            x = X_ext[8*i:8*i + 8, 8*j:8*j + 8]\n",
    "\n",
    "            # aplicarea dctn:\n",
    "            y = dctn(x)\n",
    "            # y_nnz += np.count_nonzero(y)\n",
    "\n",
    "            # cuantizare:\n",
    "            y_jpeg = Q_jpeg*np.round(y/Q_jpeg)\n",
    "            # y_jpeg_nnz += np.count_nonzero(y_jpeg)\n",
    "\n",
    "            # parcurgere zigzag:\n",
    "            y_zigzag = get_zig_zag(y_jpeg)\n",
    "            \n",
    "            # concatenare rezultat:\n",
    "            zigzag_concatenat.extend(y_zigzag)\n",
    "            # Y_jpeg[8*i:8*i + 8, 8*j:8*j + 8] = y_jpeg\n",
    "\n",
    "    # TODO: Huffman coding\n",
    "    \n",
    "    freq = Counter(zigzag_concatenat)\n",
    "    huffman_code = huffman.codebook(freq.items())\n",
    "   \n",
    "    encoded_data = ''.join(huffman_code[num] for num in zigzag_concatenat)\n",
    "\n",
    "    \n",
    "    # decoded_data = huffman.decode(encoded_data, huffman_code)\n",
    "    # Verificare: datele originale și decodificate ar trebui să fie identice\n",
    "    # assert list(decoded_data) == data\n",
    "\n",
    "    # return Y_jpeg\n",
    "    return encoded_data, huffman_code\n",
    "\n",
    "\n",
    "\n",
    "def jpeg_decoding(Y):\n",
    "    r, c = Y.shape\n",
    "\n",
    "    # TODO: Huffman decoding\n",
    "    \n",
    "    decoded = huffman.decode(encoded, huffman_code)\n",
    "    \n",
    "    X_jpeg = np.zeros_like(Y)\n",
    "    for i in range(int(r/8)):\n",
    "        for j in range(int(c/8)):\n",
    "            y = Y[8*i:8*i + 8, 8*j:8*j + 8]\n",
    "            x_jpeg = idctn(y)\n",
    "            \n",
    "            X_jpeg[8*i:8*i + 8, 8*j:8*j + 8] = x_jpeg\n",
    "    \n",
    "    return X_jpeg    \n",
    "   \n",
    "\n",
    "encoded_data, huffman_code = jpeg_encoding(X)\n",
    "print(type(encoded_data[0]))\n",
    "\n",
    "# TODO : SCJIMBA IMPLEMENTAREA HUFFMAN CU UNA CARE STIE CE FACE :(((((((\n",
    "\n",
    "# print(len(Y_jpeg))\n",
    "# X_jpeg = jpeg_decoding(Y_jpeg)\n",
    "\n",
    "\n",
    "# plt.subplot(121).imshow(X, cmap=plt.cm.gray)\n",
    "# plt.subplot(122).imshow(X_jpeg, cmap=plt.cm.gray)\n",
    "# plt.show()\n",
    "\n"
   ]
  }
 ],
 "metadata": {
  "kernelspec": {
   "display_name": "Python 3 (ipykernel)",
   "language": "python",
   "name": "python3"
  },
  "language_info": {
   "codemirror_mode": {
    "name": "ipython",
    "version": 3
   },
   "file_extension": ".py",
   "mimetype": "text/x-python",
   "name": "python",
   "nbconvert_exporter": "python",
   "pygments_lexer": "ipython3",
   "version": "3.12.7"
  }
 },
 "nbformat": 4,
 "nbformat_minor": 5
}
